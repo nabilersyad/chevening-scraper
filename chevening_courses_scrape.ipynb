{
 "cells": [
  {
   "cell_type": "code",
   "execution_count": 1,
   "source": [
    "import requests\n",
    "import pprint\n",
    "from bs4 import BeautifulSoup\n",
    "import pandas as pd \n"
   ],
   "outputs": [],
   "metadata": {}
  },
  {
   "cell_type": "code",
   "execution_count": 2,
   "source": [
    "fields = ['transport','data','cloud']"
   ],
   "outputs": [],
   "metadata": {}
  },
  {
   "cell_type": "code",
   "execution_count": 3,
   "source": [
    "# need to build list of cities\n",
    "# iterate each cities with get requests\n",
    "soups = []\n",
    "\n",
    "# need a way to check pagination container for list length, thats how we know how long it is\n",
    "for field in fields:\n",
    "    URL = 'https://www.postgrad.com/search/chevening/?q='+ field + '&uk_location='\n",
    "    page = requests.get(URL)\n",
    "    soup = BeautifulSoup(page.content, 'html.parser')\n",
    "    soup = (soup, field)\n",
    "    soups.append(soup)\n"
   ],
   "outputs": [],
   "metadata": {}
  },
  {
   "cell_type": "code",
   "execution_count": 4,
   "source": [
    "#use the initial html soup scraped to figure out how many pages each query has\n",
    "pages_list = []\n",
    "\n",
    "for soup,field in soups:\n",
    "    page_container = soup.find('div', class_='pagination-container')\n",
    "    pages = page_container.find_all('li')\n",
    "\n",
    "    #number of of <li> indicates number of pages. -1 because 1 <li> represents the active page\n",
    "    if len(pages) != 1:\n",
    "        pages_list.append(len(pages)-1)\n",
    "    else:\n",
    "        pages_list.append(1)\n"
   ],
   "outputs": [],
   "metadata": {}
  },
  {
   "cell_type": "code",
   "execution_count": 5,
   "source": [
    "field_page_dict = dict(zip(fields, pages_list))\n",
    "new_soups = []\n",
    "for field,pages in field_page_dict.items():\n",
    "    for page in range(1,pages+1):\n",
    "        URL = 'https://www.postgrad.com/search/chevening/?q='+ field + '&uk_location=&page=' + str(page)\n",
    "        print(URL)\n",
    "        page = requests.get(URL)\n",
    "        new_soup = BeautifulSoup(page.content, 'html.parser')\n",
    "        temp_tuple = (new_soup , field)\n",
    "        new_soups.append(temp_tuple)"
   ],
   "outputs": [
    {
     "output_type": "stream",
     "name": "stdout",
     "text": [
      "https://www.postgrad.com/search/chevening/?q=transport&uk_location=&page=1\n",
      "https://www.postgrad.com/search/chevening/?q=transport&uk_location=&page=2\n",
      "https://www.postgrad.com/search/chevening/?q=data&uk_location=&page=1\n",
      "https://www.postgrad.com/search/chevening/?q=data&uk_location=&page=2\n",
      "https://www.postgrad.com/search/chevening/?q=data&uk_location=&page=3\n",
      "https://www.postgrad.com/search/chevening/?q=data&uk_location=&page=4\n",
      "https://www.postgrad.com/search/chevening/?q=data&uk_location=&page=5\n",
      "https://www.postgrad.com/search/chevening/?q=data&uk_location=&page=6\n",
      "https://www.postgrad.com/search/chevening/?q=data&uk_location=&page=7\n",
      "https://www.postgrad.com/search/chevening/?q=data&uk_location=&page=8\n",
      "https://www.postgrad.com/search/chevening/?q=cloud&uk_location=&page=1\n"
     ]
    }
   ],
   "metadata": {}
  },
  {
   "cell_type": "code",
   "execution_count": 6,
   "source": [
    "sections_list =[]\n",
    "\n",
    "for new_soup , field in new_soups:\n",
    "    sections = new_soup.find_all('section', class_='search_dept')\n",
    "    temp_tup = (sections,field)\n",
    "    sections_list.append(temp_tup)\n"
   ],
   "outputs": [],
   "metadata": {}
  },
  {
   "cell_type": "code",
   "execution_count": 7,
   "source": [
    "def dataFramer(sections):\n",
    "    unis = []\n",
    "    courses = []\n",
    "    chevenings = []\n",
    "    links = []\n",
    "    fields = []\n",
    "    field = sections[1]\n",
    "    for section in sections[0]:\n",
    "        uni = section.find('div', class_='search_dept-head')\n",
    "        #Try to find unis that is are chevening\n",
    "        try :\n",
    "            chevening = uni.find('a', class_='tag tag-tick').text\n",
    "            chevening = 'True'\n",
    "            uni = uni.find_all('a')\n",
    "            uni = uni[1].text\n",
    "\n",
    "        except:\n",
    "            chevening = 'False'\n",
    "            uni = uni.find('a').text \n",
    "\n",
    "        #Try to find unis with more than one course\n",
    "\n",
    "        course_list = section.find_all('li')\n",
    "        for course in course_list:\n",
    "            link = course.find('a', class_= 'course-name')\n",
    "            link = link.get('href') \n",
    "            link = 'https://www.postgrad.com' + link\n",
    "            links.append(link)\n",
    "            course  = course.find('a', class_= 'course-name').text\n",
    "            courses.append(course)\n",
    "            unis.append(uni)\n",
    "            chevenings.append(chevening)\n",
    "            fields.append(field)\n",
    "        #courses.append(course.find('a', class_= 'course-name').text)\n",
    "\n",
    "    df = pd.DataFrame(list(zip(unis, courses,chevenings,links,fields)),\n",
    "                columns =['University', 'Courses','Chevening Partner','Links','Field'])\n",
    "    return df"
   ],
   "outputs": [],
   "metadata": {}
  },
  {
   "cell_type": "code",
   "execution_count": 8,
   "source": [
    "type(sections_list[0])"
   ],
   "outputs": [
    {
     "output_type": "execute_result",
     "data": {
      "text/plain": [
       "tuple"
      ]
     },
     "metadata": {},
     "execution_count": 8
    }
   ],
   "metadata": {}
  },
  {
   "cell_type": "code",
   "execution_count": 9,
   "source": [
    "#Using dataFramer function on all sections that and all data to be appended to dataframe\n",
    "dataframe_list = []\n",
    "for sections in sections_list:\n",
    "    section_data = dataFramer(sections)\n",
    "    dataframe_list.append(section_data)\n",
    "all_data =pd.concat(dataframe_list)"
   ],
   "outputs": [],
   "metadata": {}
  },
  {
   "cell_type": "code",
   "execution_count": 10,
   "source": [
    "all_data\n",
    "all_data.to_csv('chevening_university.csv',index=False)"
   ],
   "outputs": [],
   "metadata": {}
  },
  {
   "cell_type": "code",
   "execution_count": 11,
   "source": [
    "all_data"
   ],
   "outputs": [
    {
     "output_type": "execute_result",
     "data": {
      "text/plain": [
       "                     University                                  Courses  \\\n",
       "0        University of Aberdeen       Transport and Intelligent Mobility   \n",
       "1            Cardiff University                   Transport and Planning   \n",
       "2           Coventry University          Automotive and Transport Design   \n",
       "3           Coventry University                 Air Transport Management   \n",
       "4           Coventry University  Highways and Transportation Engineering   \n",
       "..                          ...                                      ...   \n",
       "5         University of Lincoln                          Cloud Computing   \n",
       "6          Newcastle University                          Cloud Computing   \n",
       "7   Nottingham Trent University           Cloud and Enterprise Computing   \n",
       "8       University of Leicester                          Cloud Computing   \n",
       "9          Middlesex University   Network Management and Cloud Computing   \n",
       "\n",
       "   Chevening                                              Links      Field  \n",
       "0      False  https://www.postgrad.com/university-of-aberdee...  transport  \n",
       "1       True  https://www.postgrad.com/cardiff-university-sc...  transport  \n",
       "2       True  https://www.postgrad.com/coventry-university-s...  transport  \n",
       "3       True  https://www.postgrad.com/coventry-university-s...  transport  \n",
       "4       True  https://www.postgrad.com/coventry-university-s...  transport  \n",
       "..       ...                                                ...        ...  \n",
       "5      False  https://www.postgrad.com/university-of-lincoln...      cloud  \n",
       "6       True  https://www.postgrad.com/newcastle-university-...      cloud  \n",
       "7       True  https://www.postgrad.com/nottingham-trent-univ...      cloud  \n",
       "8      False  https://www.postgrad.com/university-of-leicest...      cloud  \n",
       "9      False  https://www.postgrad.com/middlesex-university-...      cloud  \n",
       "\n",
       "[284 rows x 5 columns]"
      ],
      "text/html": [
       "<div>\n",
       "<style scoped>\n",
       "    .dataframe tbody tr th:only-of-type {\n",
       "        vertical-align: middle;\n",
       "    }\n",
       "\n",
       "    .dataframe tbody tr th {\n",
       "        vertical-align: top;\n",
       "    }\n",
       "\n",
       "    .dataframe thead th {\n",
       "        text-align: right;\n",
       "    }\n",
       "</style>\n",
       "<table border=\"1\" class=\"dataframe\">\n",
       "  <thead>\n",
       "    <tr style=\"text-align: right;\">\n",
       "      <th></th>\n",
       "      <th>University</th>\n",
       "      <th>Courses</th>\n",
       "      <th>Chevening</th>\n",
       "      <th>Links</th>\n",
       "      <th>Field</th>\n",
       "    </tr>\n",
       "  </thead>\n",
       "  <tbody>\n",
       "    <tr>\n",
       "      <th>0</th>\n",
       "      <td>University of Aberdeen</td>\n",
       "      <td>Transport and Intelligent Mobility</td>\n",
       "      <td>False</td>\n",
       "      <td>https://www.postgrad.com/university-of-aberdee...</td>\n",
       "      <td>transport</td>\n",
       "    </tr>\n",
       "    <tr>\n",
       "      <th>1</th>\n",
       "      <td>Cardiff University</td>\n",
       "      <td>Transport and Planning</td>\n",
       "      <td>True</td>\n",
       "      <td>https://www.postgrad.com/cardiff-university-sc...</td>\n",
       "      <td>transport</td>\n",
       "    </tr>\n",
       "    <tr>\n",
       "      <th>2</th>\n",
       "      <td>Coventry University</td>\n",
       "      <td>Automotive and Transport Design</td>\n",
       "      <td>True</td>\n",
       "      <td>https://www.postgrad.com/coventry-university-s...</td>\n",
       "      <td>transport</td>\n",
       "    </tr>\n",
       "    <tr>\n",
       "      <th>3</th>\n",
       "      <td>Coventry University</td>\n",
       "      <td>Air Transport Management</td>\n",
       "      <td>True</td>\n",
       "      <td>https://www.postgrad.com/coventry-university-s...</td>\n",
       "      <td>transport</td>\n",
       "    </tr>\n",
       "    <tr>\n",
       "      <th>4</th>\n",
       "      <td>Coventry University</td>\n",
       "      <td>Highways and Transportation Engineering</td>\n",
       "      <td>True</td>\n",
       "      <td>https://www.postgrad.com/coventry-university-s...</td>\n",
       "      <td>transport</td>\n",
       "    </tr>\n",
       "    <tr>\n",
       "      <th>...</th>\n",
       "      <td>...</td>\n",
       "      <td>...</td>\n",
       "      <td>...</td>\n",
       "      <td>...</td>\n",
       "      <td>...</td>\n",
       "    </tr>\n",
       "    <tr>\n",
       "      <th>5</th>\n",
       "      <td>University of Lincoln</td>\n",
       "      <td>Cloud Computing</td>\n",
       "      <td>False</td>\n",
       "      <td>https://www.postgrad.com/university-of-lincoln...</td>\n",
       "      <td>cloud</td>\n",
       "    </tr>\n",
       "    <tr>\n",
       "      <th>6</th>\n",
       "      <td>Newcastle University</td>\n",
       "      <td>Cloud Computing</td>\n",
       "      <td>True</td>\n",
       "      <td>https://www.postgrad.com/newcastle-university-...</td>\n",
       "      <td>cloud</td>\n",
       "    </tr>\n",
       "    <tr>\n",
       "      <th>7</th>\n",
       "      <td>Nottingham Trent University</td>\n",
       "      <td>Cloud and Enterprise Computing</td>\n",
       "      <td>True</td>\n",
       "      <td>https://www.postgrad.com/nottingham-trent-univ...</td>\n",
       "      <td>cloud</td>\n",
       "    </tr>\n",
       "    <tr>\n",
       "      <th>8</th>\n",
       "      <td>University of Leicester</td>\n",
       "      <td>Cloud Computing</td>\n",
       "      <td>False</td>\n",
       "      <td>https://www.postgrad.com/university-of-leicest...</td>\n",
       "      <td>cloud</td>\n",
       "    </tr>\n",
       "    <tr>\n",
       "      <th>9</th>\n",
       "      <td>Middlesex University</td>\n",
       "      <td>Network Management and Cloud Computing</td>\n",
       "      <td>False</td>\n",
       "      <td>https://www.postgrad.com/middlesex-university-...</td>\n",
       "      <td>cloud</td>\n",
       "    </tr>\n",
       "  </tbody>\n",
       "</table>\n",
       "<p>284 rows × 5 columns</p>\n",
       "</div>"
      ]
     },
     "metadata": {},
     "execution_count": 11
    }
   ],
   "metadata": {}
  },
  {
   "cell_type": "code",
   "execution_count": null,
   "source": [],
   "outputs": [],
   "metadata": {}
  }
 ],
 "metadata": {
  "kernelspec": {
   "name": "python3",
   "display_name": "Python 3.7.9 64-bit ('detector': conda)"
  },
  "language_info": {
   "codemirror_mode": {
    "name": "ipython",
    "version": 3
   },
   "file_extension": ".py",
   "mimetype": "text/x-python",
   "name": "python",
   "nbconvert_exporter": "python",
   "pygments_lexer": "ipython3",
   "version": "3.7.9"
  },
  "interpreter": {
   "hash": "cb77ae72b3bea64ea570fe4f961123d643531b28d589cc1cf22ae71734ed0dd4"
  }
 },
 "nbformat": 4,
 "nbformat_minor": 2
}