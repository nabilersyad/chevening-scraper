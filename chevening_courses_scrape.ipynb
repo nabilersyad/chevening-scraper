{
 "cells": [
  {
   "cell_type": "code",
   "execution_count": 1,
   "source": [
    "import requests\n",
    "import pprint\n",
    "from bs4 import BeautifulSoup\n",
    "import pandas as pd \n"
   ],
   "outputs": [],
   "metadata": {}
  },
  {
   "cell_type": "code",
   "execution_count": 2,
   "source": [
    "fields = ['transport','data','cloud']"
   ],
   "outputs": [],
   "metadata": {}
  },
  {
   "cell_type": "code",
   "execution_count": 3,
   "source": [
    "# need to build list of cities\n",
    "# iterate each cities with get requests\n",
    "soups = []\n",
    "\n",
    "# need a way to check pagination container for list length, thats how we know how long it is\n",
    "for field in fields:\n",
    "    URL = 'https://www.postgrad.com/search/chevening/?q='+ field + '&uk_location='\n",
    "    page = requests.get(URL)\n",
    "    soup = BeautifulSoup(page.content, 'html.parser')\n",
    "    soups.append(soup)"
   ],
   "outputs": [],
   "metadata": {}
  },
  {
   "cell_type": "code",
   "execution_count": 4,
   "source": [
    "#use the initial html soup scraped to figure out how many pages each query has\n",
    "pages_list = []\n",
    "\n",
    "for soup in soups:\n",
    "    page_container = soup.find('div', class_='pagination-container')\n",
    "    pages = page_container.find_all('li')\n",
    "\n",
    "    #number of of <li> indicates number of pages. -1 because 1 <li> represents the active page\n",
    "    if len(pages) != 1:\n",
    "        pages_list.append(len(pages)-1)\n",
    "    else:\n",
    "        pages_list.append(1)"
   ],
   "outputs": [],
   "metadata": {}
  },
  {
   "cell_type": "code",
   "execution_count": 112,
   "source": [
    "pages_list"
   ],
   "outputs": [
    {
     "output_type": "execute_result",
     "data": {
      "text/plain": [
       "[2, 8, 1]"
      ]
     },
     "metadata": {},
     "execution_count": 112
    }
   ],
   "metadata": {}
  },
  {
   "cell_type": "code",
   "execution_count": 146,
   "source": [
    "field_page_dict = dict(zip(fields, pages_list))\n",
    "new_soups = []\n",
    "for field,pages in field_page_dict.items():\n",
    "    for page in range(1,pages+1):\n",
    "        URL = 'https://www.postgrad.com/search/chevening/?q='+ field + '&uk_location=&page=' + str(page)\n",
    "        print(URL)\n",
    "        page = requests.get(URL)\n",
    "        new_soup = BeautifulSoup(page.content, 'html.parser')\n",
    "        new_soups.append(new_soup)"
   ],
   "outputs": [
    {
     "output_type": "stream",
     "name": "stdout",
     "text": [
      "https://www.postgrad.com/search/chevening/?q=transport&uk_location=&page=1\n",
      "https://www.postgrad.com/search/chevening/?q=transport&uk_location=&page=2\n",
      "https://www.postgrad.com/search/chevening/?q=data&uk_location=&page=1\n",
      "https://www.postgrad.com/search/chevening/?q=data&uk_location=&page=2\n",
      "https://www.postgrad.com/search/chevening/?q=data&uk_location=&page=3\n",
      "https://www.postgrad.com/search/chevening/?q=data&uk_location=&page=4\n",
      "https://www.postgrad.com/search/chevening/?q=data&uk_location=&page=5\n",
      "https://www.postgrad.com/search/chevening/?q=data&uk_location=&page=6\n",
      "https://www.postgrad.com/search/chevening/?q=data&uk_location=&page=7\n",
      "https://www.postgrad.com/search/chevening/?q=data&uk_location=&page=8\n",
      "https://www.postgrad.com/search/chevening/?q=cloud&uk_location=&page=1\n"
     ]
    }
   ],
   "metadata": {}
  },
  {
   "cell_type": "code",
   "execution_count": 144,
   "source": [
    "len(new_soups)"
   ],
   "outputs": [
    {
     "output_type": "execute_result",
     "data": {
      "text/plain": [
       "11"
      ]
     },
     "metadata": {},
     "execution_count": 144
    }
   ],
   "metadata": {}
  },
  {
   "cell_type": "code",
   "execution_count": 148,
   "source": [
    "sections_list =[]\n",
    "\n",
    "for new_soup in new_soups:\n",
    "    sections = new_soup.find_all('section', class_='search_dept')\n",
    "    sections_list.append(sections)\n"
   ],
   "outputs": [],
   "metadata": {}
  },
  {
   "cell_type": "code",
   "execution_count": 151,
   "source": [
    "def dataFramer(sections):\n",
    "    unis = []\n",
    "    courses = []\n",
    "    chevenings = []\n",
    "    for section in sections:\n",
    "\n",
    "        uni = section.find('div', class_='search_dept-head')\n",
    "        #Try to find unis that is are chevening\n",
    "        try :\n",
    "            uni.find('a', class_='tag tag-tick').text\n",
    "            chevening = 'True'\n",
    "            uni = uni.find_all('a')\n",
    "            uni = uni[1].text\n",
    "\n",
    "        except:\n",
    "            chevening = 'False'\n",
    "            uni = uni.find('a').text \n",
    "\n",
    "        #Try to find unis with more than one course\n",
    "\n",
    "        course_list = section.find_all('li')\n",
    "        for course in course_list:\n",
    "            course  = course.find('a', class_= 'course-name').text\n",
    "            courses.append(course)\n",
    "            unis.append(uni)\n",
    "            chevenings.append(chevening)\n",
    "        #courses.append(course.find('a', class_= 'course-name').text)\n",
    "\n",
    "    df = pd.DataFrame(list(zip(unis, courses,chevenings)),\n",
    "                columns =['University', 'Courses','Chevening'])\n",
    "    return df"
   ],
   "outputs": [],
   "metadata": {}
  },
  {
   "cell_type": "code",
   "execution_count": 175,
   "source": [
    "#Using dataFramer function on all sections that and all data to be appended to dataframe\n",
    "dataframe_list = []\n",
    "for sections in sections_list:\n",
    "    section_data = dataFramer(sections)\n",
    "    dataframe_list.append(section_data)\n",
    "all_data =pd.concat(dataframe_list)"
   ],
   "outputs": [],
   "metadata": {}
  },
  {
   "cell_type": "code",
   "execution_count": 179,
   "source": [
    "all_data\n",
    "all_data.to_csv('chevening_university.csv',index=False)"
   ],
   "outputs": [],
   "metadata": {}
  },
  {
   "cell_type": "code",
   "execution_count": null,
   "source": [],
   "outputs": [],
   "metadata": {}
  }
 ],
 "metadata": {
  "kernelspec": {
   "name": "python3",
   "display_name": "Python 3.7.9 64-bit ('detector': conda)"
  },
  "language_info": {
   "codemirror_mode": {
    "name": "ipython",
    "version": 3
   },
   "file_extension": ".py",
   "mimetype": "text/x-python",
   "name": "python",
   "nbconvert_exporter": "python",
   "pygments_lexer": "ipython3",
   "version": "3.7.9"
  },
  "interpreter": {
   "hash": "cb77ae72b3bea64ea570fe4f961123d643531b28d589cc1cf22ae71734ed0dd4"
  }
 },
 "nbformat": 4,
 "nbformat_minor": 2
}